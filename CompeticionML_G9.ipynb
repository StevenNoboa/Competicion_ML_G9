{
 "cells": [
  {
   "cell_type": "code",
   "execution_count": 1,
   "metadata": {},
   "outputs": [
    {
     "name": "stdout",
     "output_type": "stream",
     "text": [
      "WARNING:tensorflow:From c:\\Users\\Steven\\AppData\\Local\\Programs\\Python\\Python311\\Lib\\site-packages\\keras\\src\\losses.py:2976: The name tf.losses.sparse_softmax_cross_entropy is deprecated. Please use tf.compat.v1.losses.sparse_softmax_cross_entropy instead.\n",
      "\n"
     ]
    }
   ],
   "source": [
    "import zipfile\n",
    "import numpy as np\n",
    "import pandas as pd\n",
    "import matplotlib.pyplot as plt\n",
    "import seaborn as sns\n",
    "import os\n",
    "from tensorflow import keras\n",
    "import cv2\n",
    "from skimage.io import imread\n",
    "from sklearn.metrics import confusion_matrix"
   ]
  },
  {
   "cell_type": "code",
   "execution_count": 2,
   "metadata": {},
   "outputs": [],
   "source": [
    "# with zipfile.ZipFile('data/emodecode-3000.zip') as zip_ref:\n",
    "#     zip_ref.extractall('data')"
   ]
  },
  {
   "cell_type": "markdown",
   "metadata": {},
   "source": [
    "# Train"
   ]
  },
  {
   "cell_type": "code",
   "execution_count": 3,
   "metadata": {},
   "outputs": [
    {
     "data": {
      "text/html": [
       "<div>\n",
       "<style scoped>\n",
       "    .dataframe tbody tr th:only-of-type {\n",
       "        vertical-align: middle;\n",
       "    }\n",
       "\n",
       "    .dataframe tbody tr th {\n",
       "        vertical-align: top;\n",
       "    }\n",
       "\n",
       "    .dataframe thead th {\n",
       "        text-align: right;\n",
       "    }\n",
       "</style>\n",
       "<table border=\"1\" class=\"dataframe\">\n",
       "  <thead>\n",
       "    <tr style=\"text-align: right;\">\n",
       "      <th></th>\n",
       "      <th>id_img</th>\n",
       "      <th>path</th>\n",
       "      <th>label</th>\n",
       "    </tr>\n",
       "  </thead>\n",
       "  <tbody>\n",
       "    <tr>\n",
       "      <th>0</th>\n",
       "      <td>0</td>\n",
       "      <td>../data/images/train/angry\\0.jpg</td>\n",
       "      <td>angry</td>\n",
       "    </tr>\n",
       "    <tr>\n",
       "      <th>1</th>\n",
       "      <td>1</td>\n",
       "      <td>../data/images/train/angry\\1.jpg</td>\n",
       "      <td>angry</td>\n",
       "    </tr>\n",
       "    <tr>\n",
       "      <th>2</th>\n",
       "      <td>10</td>\n",
       "      <td>../data/images/train/angry\\10.jpg</td>\n",
       "      <td>angry</td>\n",
       "    </tr>\n",
       "    <tr>\n",
       "      <th>3</th>\n",
       "      <td>10002</td>\n",
       "      <td>../data/images/train/angry\\10002.jpg</td>\n",
       "      <td>angry</td>\n",
       "    </tr>\n",
       "    <tr>\n",
       "      <th>4</th>\n",
       "      <td>10016</td>\n",
       "      <td>../data/images/train/angry\\10016.jpg</td>\n",
       "      <td>angry</td>\n",
       "    </tr>\n",
       "    <tr>\n",
       "      <th>...</th>\n",
       "      <td>...</td>\n",
       "      <td>...</td>\n",
       "      <td>...</td>\n",
       "    </tr>\n",
       "    <tr>\n",
       "      <th>28816</th>\n",
       "      <td>9969</td>\n",
       "      <td>../data/images/train/surprise\\9969.jpg</td>\n",
       "      <td>surprise</td>\n",
       "    </tr>\n",
       "    <tr>\n",
       "      <th>28817</th>\n",
       "      <td>9985</td>\n",
       "      <td>../data/images/train/surprise\\9985.jpg</td>\n",
       "      <td>surprise</td>\n",
       "    </tr>\n",
       "    <tr>\n",
       "      <th>28818</th>\n",
       "      <td>9990</td>\n",
       "      <td>../data/images/train/surprise\\9990.jpg</td>\n",
       "      <td>surprise</td>\n",
       "    </tr>\n",
       "    <tr>\n",
       "      <th>28819</th>\n",
       "      <td>9992</td>\n",
       "      <td>../data/images/train/surprise\\9992.jpg</td>\n",
       "      <td>surprise</td>\n",
       "    </tr>\n",
       "    <tr>\n",
       "      <th>28820</th>\n",
       "      <td>9996</td>\n",
       "      <td>../data/images/train/surprise\\9996.jpg</td>\n",
       "      <td>surprise</td>\n",
       "    </tr>\n",
       "  </tbody>\n",
       "</table>\n",
       "<p>28821 rows × 3 columns</p>\n",
       "</div>"
      ],
      "text/plain": [
       "       id_img                                    path     label\n",
       "0           0        ../data/images/train/angry\\0.jpg     angry\n",
       "1           1        ../data/images/train/angry\\1.jpg     angry\n",
       "2          10       ../data/images/train/angry\\10.jpg     angry\n",
       "3       10002    ../data/images/train/angry\\10002.jpg     angry\n",
       "4       10016    ../data/images/train/angry\\10016.jpg     angry\n",
       "...       ...                                     ...       ...\n",
       "28816    9969  ../data/images/train/surprise\\9969.jpg  surprise\n",
       "28817    9985  ../data/images/train/surprise\\9985.jpg  surprise\n",
       "28818    9990  ../data/images/train/surprise\\9990.jpg  surprise\n",
       "28819    9992  ../data/images/train/surprise\\9992.jpg  surprise\n",
       "28820    9996  ../data/images/train/surprise\\9996.jpg  surprise\n",
       "\n",
       "[28821 rows x 3 columns]"
      ]
     },
     "execution_count": 3,
     "metadata": {},
     "output_type": "execute_result"
    }
   ],
   "source": [
    "df_train = pd.read_csv(\"data/train_set.csv\")\n",
    "df_train"
   ]
  },
  {
   "cell_type": "code",
   "execution_count": 4,
   "metadata": {},
   "outputs": [
    {
     "name": "stdout",
     "output_type": "stream",
     "text": [
      "<class 'pandas.core.frame.DataFrame'>\n",
      "RangeIndex: 28821 entries, 0 to 28820\n",
      "Data columns (total 3 columns):\n",
      " #   Column  Non-Null Count  Dtype \n",
      "---  ------  --------------  ----- \n",
      " 0   id_img  28821 non-null  int64 \n",
      " 1   path    28821 non-null  object\n",
      " 2   label   28821 non-null  object\n",
      "dtypes: int64(1), object(2)\n",
      "memory usage: 675.6+ KB\n"
     ]
    }
   ],
   "source": [
    "df_train.info()"
   ]
  },
  {
   "cell_type": "code",
   "execution_count": 5,
   "metadata": {},
   "outputs": [
    {
     "data": {
      "text/plain": [
       "label\n",
       "happy       7164\n",
       "neutral     4982\n",
       "sad         4938\n",
       "fear        4103\n",
       "angry       3993\n",
       "surprise    3205\n",
       "disgust      436\n",
       "Name: count, dtype: int64"
      ]
     },
     "execution_count": 5,
     "metadata": {},
     "output_type": "execute_result"
    }
   ],
   "source": [
    "df_train['label'].value_counts()"
   ]
  },
  {
   "cell_type": "code",
   "execution_count": 6,
   "metadata": {},
   "outputs": [],
   "source": [
    "df_train['path'] = df_train['path'].str.replace('\\\\', '/')\n",
    "df_train['path'] = df_train['path'].str.replace('data', './data/data/data')\n",
    "df_train['path'] = df_train['path'].str.replace('../', '')\n"
   ]
  },
  {
   "cell_type": "code",
   "execution_count": 7,
   "metadata": {},
   "outputs": [],
   "source": [
    "def cargar_y_convertir_imagen(ruta_imagen):\n",
    "    image = cv2.imread(ruta_imagen, 0)\n",
    "    image_array = np.array(image)\n",
    "    return image_array\n",
    "\n",
    "df_train['image'] = df_train['path'].apply(cargar_y_convertir_imagen)"
   ]
  },
  {
   "cell_type": "code",
   "execution_count": 8,
   "metadata": {},
   "outputs": [
    {
     "data": {
      "text/html": [
       "<div>\n",
       "<style scoped>\n",
       "    .dataframe tbody tr th:only-of-type {\n",
       "        vertical-align: middle;\n",
       "    }\n",
       "\n",
       "    .dataframe tbody tr th {\n",
       "        vertical-align: top;\n",
       "    }\n",
       "\n",
       "    .dataframe thead th {\n",
       "        text-align: right;\n",
       "    }\n",
       "</style>\n",
       "<table border=\"1\" class=\"dataframe\">\n",
       "  <thead>\n",
       "    <tr style=\"text-align: right;\">\n",
       "      <th></th>\n",
       "      <th>id_img</th>\n",
       "      <th>path</th>\n",
       "      <th>label</th>\n",
       "      <th>image</th>\n",
       "    </tr>\n",
       "  </thead>\n",
       "  <tbody>\n",
       "    <tr>\n",
       "      <th>0</th>\n",
       "      <td>0</td>\n",
       "      <td>./data/data/data/images/train/angry/0.jpg</td>\n",
       "      <td>angry</td>\n",
       "      <td>[[72, 78, 81, 75, 59, 54, 63, 61, 55, 55, 62, ...</td>\n",
       "    </tr>\n",
       "    <tr>\n",
       "      <th>1</th>\n",
       "      <td>1</td>\n",
       "      <td>./data/data/data/images/train/angry/1.jpg</td>\n",
       "      <td>angry</td>\n",
       "      <td>[[152, 149, 147, 157, 146, 133, 114, 138, 170,...</td>\n",
       "    </tr>\n",
       "    <tr>\n",
       "      <th>2</th>\n",
       "      <td>10</td>\n",
       "      <td>./data/data/data/images/train/angry/10.jpg</td>\n",
       "      <td>angry</td>\n",
       "      <td>[[29, 25, 21, 23, 26, 24, 49, 67, 85, 101, 121...</td>\n",
       "    </tr>\n",
       "    <tr>\n",
       "      <th>3</th>\n",
       "      <td>10002</td>\n",
       "      <td>./data/data/data/images/train/angry/10002.jpg</td>\n",
       "      <td>angry</td>\n",
       "      <td>[[32, 23, 20, 56, 43, 34, 38, 46, 92, 99, 34, ...</td>\n",
       "    </tr>\n",
       "    <tr>\n",
       "      <th>4</th>\n",
       "      <td>10016</td>\n",
       "      <td>./data/data/data/images/train/angry/10016.jpg</td>\n",
       "      <td>angry</td>\n",
       "      <td>[[222, 218, 202, 189, 199, 208, 193, 134, 103,...</td>\n",
       "    </tr>\n",
       "    <tr>\n",
       "      <th>...</th>\n",
       "      <td>...</td>\n",
       "      <td>...</td>\n",
       "      <td>...</td>\n",
       "      <td>...</td>\n",
       "    </tr>\n",
       "    <tr>\n",
       "      <th>28816</th>\n",
       "      <td>9969</td>\n",
       "      <td>./data/data/data/images/train/surprise/9969.jpg</td>\n",
       "      <td>surprise</td>\n",
       "      <td>[[0, 0, 0, 0, 0, 0, 0, 0, 1, 0, 1, 0, 0, 1, 0,...</td>\n",
       "    </tr>\n",
       "    <tr>\n",
       "      <th>28817</th>\n",
       "      <td>9985</td>\n",
       "      <td>./data/data/data/images/train/surprise/9985.jpg</td>\n",
       "      <td>surprise</td>\n",
       "      <td>[[130, 134, 132, 132, 114, 104, 94, 89, 87, 11...</td>\n",
       "    </tr>\n",
       "    <tr>\n",
       "      <th>28818</th>\n",
       "      <td>9990</td>\n",
       "      <td>./data/data/data/images/train/surprise/9990.jpg</td>\n",
       "      <td>surprise</td>\n",
       "      <td>[[243, 220, 207, 203, 202, 191, 207, 188, 196,...</td>\n",
       "    </tr>\n",
       "    <tr>\n",
       "      <th>28819</th>\n",
       "      <td>9992</td>\n",
       "      <td>./data/data/data/images/train/surprise/9992.jpg</td>\n",
       "      <td>surprise</td>\n",
       "      <td>[[253, 252, 254, 250, 255, 232, 111, 90, 91, 1...</td>\n",
       "    </tr>\n",
       "    <tr>\n",
       "      <th>28820</th>\n",
       "      <td>9996</td>\n",
       "      <td>./data/data/data/images/train/surprise/9996.jpg</td>\n",
       "      <td>surprise</td>\n",
       "      <td>[[213, 218, 214, 218, 225, 217, 215, 207, 202,...</td>\n",
       "    </tr>\n",
       "  </tbody>\n",
       "</table>\n",
       "<p>28821 rows × 4 columns</p>\n",
       "</div>"
      ],
      "text/plain": [
       "       id_img                                             path     label  \\\n",
       "0           0        ./data/data/data/images/train/angry/0.jpg     angry   \n",
       "1           1        ./data/data/data/images/train/angry/1.jpg     angry   \n",
       "2          10       ./data/data/data/images/train/angry/10.jpg     angry   \n",
       "3       10002    ./data/data/data/images/train/angry/10002.jpg     angry   \n",
       "4       10016    ./data/data/data/images/train/angry/10016.jpg     angry   \n",
       "...       ...                                              ...       ...   \n",
       "28816    9969  ./data/data/data/images/train/surprise/9969.jpg  surprise   \n",
       "28817    9985  ./data/data/data/images/train/surprise/9985.jpg  surprise   \n",
       "28818    9990  ./data/data/data/images/train/surprise/9990.jpg  surprise   \n",
       "28819    9992  ./data/data/data/images/train/surprise/9992.jpg  surprise   \n",
       "28820    9996  ./data/data/data/images/train/surprise/9996.jpg  surprise   \n",
       "\n",
       "                                                   image  \n",
       "0      [[72, 78, 81, 75, 59, 54, 63, 61, 55, 55, 62, ...  \n",
       "1      [[152, 149, 147, 157, 146, 133, 114, 138, 170,...  \n",
       "2      [[29, 25, 21, 23, 26, 24, 49, 67, 85, 101, 121...  \n",
       "3      [[32, 23, 20, 56, 43, 34, 38, 46, 92, 99, 34, ...  \n",
       "4      [[222, 218, 202, 189, 199, 208, 193, 134, 103,...  \n",
       "...                                                  ...  \n",
       "28816  [[0, 0, 0, 0, 0, 0, 0, 0, 1, 0, 1, 0, 0, 1, 0,...  \n",
       "28817  [[130, 134, 132, 132, 114, 104, 94, 89, 87, 11...  \n",
       "28818  [[243, 220, 207, 203, 202, 191, 207, 188, 196,...  \n",
       "28819  [[253, 252, 254, 250, 255, 232, 111, 90, 91, 1...  \n",
       "28820  [[213, 218, 214, 218, 225, 217, 215, 207, 202,...  \n",
       "\n",
       "[28821 rows x 4 columns]"
      ]
     },
     "execution_count": 8,
     "metadata": {},
     "output_type": "execute_result"
    }
   ],
   "source": [
    "df_train"
   ]
  },
  {
   "cell_type": "code",
   "execution_count": 9,
   "metadata": {},
   "outputs": [
    {
     "data": {
      "text/plain": [
       "{'angry': 0,\n",
       " 'disgust': 1,\n",
       " 'fear': 2,\n",
       " 'happy': 3,\n",
       " 'neutral': 4,\n",
       " 'sad': 5,\n",
       " 'surprise': 6}"
      ]
     },
     "execution_count": 9,
     "metadata": {},
     "output_type": "execute_result"
    }
   ],
   "source": [
    "class_names = ['angry', 'disgust', 'fear', 'happy', 'neutral', 'sad', \"surprise\"]\n",
    "class_names_label = {class_name:i for i, class_name in enumerate(class_names)}\n",
    "class_names_label"
   ]
  },
  {
   "cell_type": "code",
   "execution_count": null,
   "metadata": {},
   "outputs": [],
   "source": []
  }
 ],
 "metadata": {
  "kernelspec": {
   "display_name": "Python 3",
   "language": "python",
   "name": "python3"
  },
  "language_info": {
   "codemirror_mode": {
    "name": "ipython",
    "version": 3
   },
   "file_extension": ".py",
   "mimetype": "text/x-python",
   "name": "python",
   "nbconvert_exporter": "python",
   "pygments_lexer": "ipython3",
   "version": "3.11.5"
  }
 },
 "nbformat": 4,
 "nbformat_minor": 2
}
